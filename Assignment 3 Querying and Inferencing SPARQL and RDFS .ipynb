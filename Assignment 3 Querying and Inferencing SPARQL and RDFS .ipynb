{
 "cells": [
  {
   "cell_type": "markdown",
   "metadata": {},
   "source": [
    "# Knowledge and Data 2020: Practical Assignment 3 \n",
    "## RDF Data, RDFS knowledge and inferencing "
   ]
  },
  {
   "cell_type": "markdown",
   "metadata": {},
   "source": [
    "YOUR NAME: Vanshita Sharma Kumar \n",
    "\n",
    "YOUR VUNetID: vkr560\n",
    "\n",
    "*(If you do not provide your name and VUNetID we will not accept your submission).* "
   ]
  },
  {
   "cell_type": "markdown",
   "metadata": {},
   "source": [
    "### Learning objectives\n",
    "\n",
    "At the end of this exercise you should be able to:\n",
    "\n",
    "1. Access local an external data via SPARQL both from within a python programming environment and stand-alone with a GUI, such as [YASGUI](https://yasgui.triply.cc/), and this way integrate data from different sources  \n",
    "2. Model your own first knowledge base, in this case an RDF Schema knowledge graph\n",
    "3. Implement inference rules "
   ]
  },
  {
   "cell_type": "markdown",
   "metadata": {},
   "source": [
    "Follow this Notebook step-by-step. \n",
    "\n",
    "Of course, you can do the exercises in any Programming Editor of your liking. \n",
    "But you do not have to. Feel free to simply write code in the Notebook. When \n",
    "everythink is filled in and works, safe the Notebook and submit it \n",
    "as a Jupyter Notebook, i.e. with an ipynb extension. Please use as name of the \n",
    "Notebook your studentID+Assignment3.ipynb.  \n",
    "\n",
    "Other than in courses dedicated to programming we will not evaluate the style\n",
    "of the programs. But we will test your programs on other data than we provide, \n",
    "and your program should give the correct answers to those test-data as well. "
   ]
  },
  {
   "cell_type": "markdown",
   "metadata": {},
   "source": [
    "Before you start, you need to:\n",
    "\n",
    "- **Install the *rdflib* Python package:** *pip install rdflib* (should already be installed from the previous assignment)\n",
    "- **Install the *SPARQLWrapper* Python package:** *pip install SPARQLWrapper*\n",
    "- **Install the free edition of the GraphDB Triplestore:** please follow this short [GraphDB tutorial](https://github.com/ucds-vu/knowledge-data-vu/blob/master/Tutorials/Preliminaries/tutorial-GraphDB.md). \n",
    "\n",
    "Then, add the file example-from-slides.ttl to a newly created database, say called assignment-3. \n",
    "\n",
    "**Note that you should have an active internet connection to run the code in this notebook.**"
   ]
  },
  {
   "cell_type": "markdown",
   "metadata": {},
   "source": [
    "## Task 1: (3.5 points) Integrate Local and External Data"
   ]
  },
  {
   "cell_type": "markdown",
   "metadata": {},
   "source": [
    "You can integrate SPARQL queries into your Python code by using the *RDFLib* and *SPARQLWrapper* libraries. \n",
    "\n",
    "The following code accesses the DBPedia knowledge graph using its SPARQL endpoint, and returns the result of the SPARQL query requesting all the labels asserted to Amsterdam (test it!)  "
   ]
  },
  {
   "cell_type": "code",
   "execution_count": 1,
   "metadata": {
    "scrolled": true
   },
   "outputs": [
    {
     "name": "stdout",
     "output_type": "stream",
     "text": [
      "Amsterdam\n",
      "أمستردام\n",
      "حكومة أمستردام\n",
      "Amsterdam\n",
      "Amsterdam\n",
      "Amsterdam\n",
      "Άμστερνταμ\n",
      "Άμστερνταμ (δήμος)\n",
      "Amsterdamo\n",
      "Ámsterdam\n",
      "Amsterdam\n",
      "Amsterdam\n",
      "Amsterdam (commune)\n",
      "Amstardam\n",
      "Amsterdam\n",
      "アムステルダム\n",
      "Amsterdam\n",
      "암스테르담\n",
      "Amsterdam (gemeente)\n",
      "Amsterdam\n",
      "Amsterdam\n",
      "Амстердам\n",
      "Amesterdão\n",
      "Amsterdam\n",
      "Амстердам\n",
      "阿姆斯特丹\n"
     ]
    }
   ],
   "source": [
    "# This code only works if you are online\n",
    "\n",
    "from rdflib import Graph, RDF, Namespace, Literal, URIRef\n",
    "from SPARQLWrapper import SPARQLWrapper, JSON\n",
    "\n",
    "sparql = SPARQLWrapper(\"http://dbpedia.org/sparql\")\n",
    "sparql.setQuery(\"\"\"\n",
    "    PREFIX rdfs: <http://www.w3.org/2000/01/rdf-schema#>\n",
    "    SELECT ?cityName\n",
    "    WHERE { \n",
    "        <http://dbpedia.org/resource/Amsterdam> rdfs:label ?cityName \n",
    "    }\n",
    "\"\"\")\n",
    "sparql.setReturnFormat(JSON)\n",
    "results = sparql.query().convert()\n",
    "for result in results[\"results\"][\"bindings\"]:\n",
    "    print(result[\"cityName\"][\"value\"])  "
   ]
  },
  {
   "cell_type": "markdown",
   "metadata": {},
   "source": [
    "Your task is now the following:\n",
    "1. Write a SPARQL query that extracts all the cities from your local knowledge graph (constructed by loading the file example-from-slides.ttl) \n",
    "2. Find the number of inhabitants of these cities and the longitude and latitude information (if available) from DBPedia.\n",
    "3. Merge the triples from example-from-slides.ttl with the information extracted from DBpedia + Save all these triples into a new file 'extended-example.ttl' + Print all triples in Turtle Syntax.\n",
    "\n",
    "For your convenience, we already wrote the following functions that might be useful to complete this task. \n",
    "In addition, we have loaded and printed the 'example-from-slides.ttl' dataset."
   ]
  },
  {
   "cell_type": "code",
   "execution_count": 2,
   "metadata": {
    "scrolled": true
   },
   "outputs": [
    {
     "name": "stdout",
     "output_type": "stream",
     "text": [
      "@prefix ex: <http://example.com/kad2020/> .\n",
      "@prefix rdfs: <http://www.w3.org/2000/01/rdf-schema#> .\n",
      "\n",
      "ex:Netherlands a ex:Country ;\n",
      "    ex:contains ex:Ijsselmeer ;\n",
      "    ex:containsCity ex:Rotterdam ;\n",
      "    ex:has_Capital ex:Amsterdam ;\n",
      "    ex:has_Name \"The Netherlands\" ;\n",
      "    ex:neighbours ex:Belgium .\n",
      "\n",
      "ex:hasCapital rdfs:range ex:Capital ;\n",
      "    rdfs:subPropertyOf ex:containsCity .\n",
      "\n",
      "ex:neighbours rdfs:subPropertyOf ex:closeBy .\n",
      "\n",
      "ex:Amsterdam a ex:Capital ;\n",
      "    ex:closeBy ex:Germany .\n",
      "\n",
      "ex:Belgium a ex:Country .\n",
      "\n",
      "ex:EuropeanCountry rdfs:subClassOf ex:Country .\n",
      "\n",
      "ex:Germany a ex:EuropeanCountry ;\n",
      "    ex:hasCapital ex:Berlin .\n",
      "\n",
      "ex:closeBy rdfs:domain ex:Location ;\n",
      "    rdfs:range ex:Location .\n",
      "\n",
      "ex:containsCity rdfs:domain ex:Country ;\n",
      "    rdfs:range ex:City ;\n",
      "    rdfs:subPropertyOf ex:contains .\n",
      "\n",
      "ex:Capital rdfs:subClassOf ex:City .\n",
      "\n",
      "ex:City rdfs:subClassOf ex:Location .\n",
      "\n",
      "ex:Country rdfs:subClassOf ex:Location .\n",
      "\n",
      "\n"
     ]
    }
   ],
   "source": [
    "from rdflib import Graph, RDF, Namespace, Literal, URIRef\n",
    "from SPARQLWrapper import SPARQLWrapper, JSON\n",
    "\n",
    "g = Graph()\n",
    "\n",
    "\n",
    "\n",
    "# Loads the data from a certain file given as input in Turtle syntax into the Graph g  \n",
    "# -------------------------\n",
    "def load_graph(filename):\n",
    "    with open(filename, 'r') as f:\n",
    "        g.parse(f, format='turtle')\n",
    "        \n",
    "\n",
    "# Prints a certain graph given as input in Turtle syntax\n",
    "# -------------------------\n",
    "def serialize_graph(myGraph):\n",
    "     print(myGraph.serialize(format='turtle'))\n",
    "        \n",
    "\n",
    "# Saves the Graph g in Turtle syntax to a certain file given as input\n",
    "# -------------------------\n",
    "def save_graph(myGraph, filename):\n",
    "    with open(filename, 'w') as f:\n",
    "        myGraph.serialize(filename, format='turtle')\n",
    "        \n",
    "    \n",
    "# Changes the namespace of a certain URI given as input to a DBpedia URI \n",
    "# Example: transformToDBR(\"http://example.com/kad2020/Amsterdam\") returns \"http://dbpedia.org/resource/Amsterdam\"\n",
    "# -------------------------\n",
    "def transformToDBR(uri):\n",
    "    if isinstance(uri, Literal):\n",
    "        # changes the literal to uppercase so that the object with the same name refers to an object and not the string\n",
    "        return uri.upper()\n",
    "    components = g.namespace_manager.compute_qname(uri)\n",
    "    return \"http://dbpedia.org/resource/%s\"%(components[2])\n",
    "\n",
    "# -------------------------\n",
    "\n",
    "load_graph('example-from-slides.ttl')\n",
    "serialize_graph(g)\n",
    "\n",
    "\n",
    "# Don't forget to run this cell before continuing the task.\n"
   ]
  },
  {
   "cell_type": "markdown",
   "metadata": {},
   "source": [
    "### 1. Write a SPARQL query that finds all the cities in the dataset\n",
    "\n",
    "As there is no explicit class City, you will have to find those cities in the dataset (example-from-slides.ttl) using implicit information that can be deduced from the domain and ranges of the relations (e.g. things in a hasCapital relation are capitals and a capital is a city, etc.).\n",
    "\n",
    "Save all the cities returned from the SPARQL query into the empty set \"cities\". "
   ]
  },
  {
   "cell_type": "code",
   "execution_count": 3,
   "metadata": {},
   "outputs": [
    {
     "name": "stdout",
     "output_type": "stream",
     "text": [
      "http://example.com/kad2020/Rotterdam\n",
      "http://example.com/kad2020/Berlin\n",
      "http://example.com/kad2020/Amsterdam\n"
     ]
    }
   ],
   "source": [
    "cities = set()\n",
    "qres = g.query(\n",
    "   \"\"\"\n",
    "    PREFIX dbr: <http://dbpedia.org/resource/>\n",
    "    PREFIX dbo: <http://dbpedia.org/ontology/>\n",
    "    SELECT ?city\n",
    "        WHERE {\n",
    "            ?country ex:hasCapital | ex:has_Capital | ex:containsCity ?city.\n",
    "            \n",
    "        }\n",
    "       \"\"\")\n",
    "for row in qres:\n",
    "    cities.add(row[0])\n",
    "    \n",
    "for city in cities:\n",
    "    print(city) \n",
    "    \n",
    "    # make query which takes the city \n",
    "    "
   ]
  },
  {
   "cell_type": "markdown",
   "metadata": {},
   "source": [
    "### 2. For each city, find from DBpedia its longitude & latitude, and its number of inhabitants (if available)\n",
    "\n",
    "Don't forget to adapt the namespace of the cities in your dataset when querying DBpedia, using the above function *transformToDBR(uri)*\n",
    "\n",
    "The empty graph g2 should only contain the triples extracted from DBpedia, but added to the URIs with the 'ex' namespace. \n",
    "An example of a triple in g2 is the following triple: \n",
    "       \n",
    "       ex:Amsterdam dbo:populationTotal \"872680\"^^xsd:nonNegativeInteger ."
   ]
  },
  {
   "cell_type": "code",
   "execution_count": 4,
   "metadata": {},
   "outputs": [
    {
     "name": "stdout",
     "output_type": "stream",
     "text": [
      "@prefix dbo: <http://dbpedia.org/ontology/> .\n",
      "@prefix geo: <http://www.w3.org/2003/01/geo/wgs84_pos#> .\n",
      "\n",
      "<http://example.com/kad2020/http://example.com/kad2020/Amsterdam> dbo:populationTotal \"872680\" ;\n",
      "    geo:lat \"52.3667\" ;\n",
      "    geo:long \"4.9\" .\n",
      "\n",
      "<http://example.com/kad2020/http://example.com/kad2020/Berlin> dbo:populationTotal \"3769495\" ;\n",
      "    geo:lat \"52.52\" ;\n",
      "    geo:long \"13.405\" .\n",
      "\n",
      "<http://example.com/kad2020/http://example.com/kad2020/Rotterdam> dbo:populationTotal \"651157\" ;\n",
      "    geo:lat \"51.9167\" ;\n",
      "    geo:long \"4.5\" .\n",
      "\n",
      "\n"
     ]
    }
   ],
   "source": [
    "g2 = Graph()\n",
    "\n",
    "ex = Namespace(\"http://example.com/kad2020/\") \n",
    "g2.bind(\"ex\", ex)\n",
    "\n",
    "dbo = Namespace(\"http://dbpedia.org/ontology/\")\n",
    "g2.bind(\"dbo\", dbo)\n",
    "\n",
    "geo = Namespace(\"http://www.w3.org/2003/01/geo/wgs84_pos#\")  \n",
    "g2.bind(\"geo\", geo)\n",
    "\n",
    "for city in cities: \n",
    "    \n",
    "    transform_to_dbr = transformToDBR(city) \n",
    "    \n",
    "    sparql = SPARQLWrapper(\"http://dbpedia.org/sparql\")\n",
    "    sparql.setQuery(\"\"\"\n",
    "    PREFIX geo: <http://www.w3.org/2003/01/geo/wgs84_pos#>\n",
    "    PREFIX dbo: <http://dbpedia.org/ontology/>\n",
    "    SELECT ?longitude ?latitude <\"\"\"+transform_to_dbr+\"\"\"> ?population\n",
    "    WHERE {\n",
    "      <\"\"\"+transform_to_dbr+\"\"\"> geo:lat ?latitude. \n",
    "      <\"\"\"+transform_to_dbr+\"\"\"> geo:long ?longitude .\n",
    "      \n",
    "        OPTIONAL{<\"\"\"+transform_to_dbr+\"\"\"> dbo:populationTotal ?population}\n",
    "\n",
    "    } \n",
    "\"\"\")\n",
    "    sparql.setReturnFormat(JSON)\n",
    "    results = sparql.query().convert()\n",
    "    \n",
    "    split_city = city.split('/')[-1] \n",
    "    # print(split_city)\n",
    "                    \n",
    "    for result in results[\"results\"][\"bindings\"]:\n",
    "        longitude = result[\"longitude\"][\"value\"]\n",
    "        latitude = result[\"latitude\"][\"value\"]\n",
    "\n",
    "        g2.add((ex[city], geo.long, Literal(longitude)))\n",
    "        g2.add((ex[city], geo.lat, Literal(latitude)))\n",
    "        \n",
    "        if 'population' in result:\n",
    "            population = result[\"population\"][\"value\"]\n",
    "            g2.add((ex[city], dbo.populationTotal, Literal(population)))\n",
    "            \n",
    "            \n",
    "serialize_graph(g2)"
   ]
  },
  {
   "cell_type": "markdown",
   "metadata": {},
   "source": [
    "### 3. Save your results\n",
    "\n",
    "- Merge the triples from example-from-slides.ttl with the information extracted from DBpedia\n",
    "- Save all these triples into a new file 'extended-example.ttl'\n",
    "- Print all triples in Turtle Syntax.\n"
   ]
  },
  {
   "cell_type": "code",
   "execution_count": 5,
   "metadata": {},
   "outputs": [
    {
     "name": "stdout",
     "output_type": "stream",
     "text": [
      "@prefix dbo: <http://dbpedia.org/ontology/> .\n",
      "@prefix ex: <http://example.com/kad2020/> .\n",
      "@prefix geo: <http://www.w3.org/2003/01/geo/wgs84_pos#> .\n",
      "@prefix rdfs: <http://www.w3.org/2000/01/rdf-schema#> .\n",
      "\n",
      "ex:Netherlands a ex:Country ;\n",
      "    ex:contains ex:Ijsselmeer ;\n",
      "    ex:containsCity ex:Rotterdam ;\n",
      "    ex:has_Capital ex:Amsterdam ;\n",
      "    ex:has_Name \"The Netherlands\" ;\n",
      "    ex:neighbours ex:Belgium .\n",
      "\n",
      "ex:hasCapital rdfs:range ex:Capital ;\n",
      "    rdfs:subPropertyOf ex:containsCity .\n",
      "\n",
      "<http://example.com/kad2020/http://example.com/kad2020/Amsterdam> dbo:populationTotal \"872680\" ;\n",
      "    geo:lat \"52.3667\" ;\n",
      "    geo:long \"4.9\" .\n",
      "\n",
      "<http://example.com/kad2020/http://example.com/kad2020/Berlin> dbo:populationTotal \"3769495\" ;\n",
      "    geo:lat \"52.52\" ;\n",
      "    geo:long \"13.405\" .\n",
      "\n",
      "<http://example.com/kad2020/http://example.com/kad2020/Rotterdam> dbo:populationTotal \"651157\" ;\n",
      "    geo:lat \"51.9167\" ;\n",
      "    geo:long \"4.5\" .\n",
      "\n",
      "ex:neighbours rdfs:subPropertyOf ex:closeBy .\n",
      "\n",
      "ex:Amsterdam a ex:Capital ;\n",
      "    ex:closeBy ex:Germany .\n",
      "\n",
      "ex:Belgium a ex:Country .\n",
      "\n",
      "ex:EuropeanCountry rdfs:subClassOf ex:Country .\n",
      "\n",
      "ex:Germany a ex:EuropeanCountry ;\n",
      "    ex:hasCapital ex:Berlin .\n",
      "\n",
      "ex:closeBy rdfs:domain ex:Location ;\n",
      "    rdfs:range ex:Location .\n",
      "\n",
      "ex:containsCity rdfs:domain ex:Country ;\n",
      "    rdfs:range ex:City ;\n",
      "    rdfs:subPropertyOf ex:contains .\n",
      "\n",
      "ex:Capital rdfs:subClassOf ex:City .\n",
      "\n",
      "ex:City rdfs:subClassOf ex:Location .\n",
      "\n",
      "ex:Country rdfs:subClassOf ex:Location .\n",
      "\n",
      "\n"
     ]
    }
   ],
   "source": [
    "# Your code here\n",
    "# k.poon@student.vu.nl\n",
    "new_graph = g + g2\n",
    "save_graph(new_graph, 'extended-example.ttl')\n",
    "serialize_graph(new_graph)"
   ]
  },
  {
   "cell_type": "markdown",
   "metadata": {},
   "source": [
    "## Task 2: (2.5 points)  Implement Basic Inferencing Rules "
   ]
  },
  {
   "cell_type": "markdown",
   "metadata": {},
   "source": [
    "In the lecture we showed that the RDFS inference rules can be used to infer new knowledge. For example, infer class membership based on rdfs:domain or infer relationships between subjects and objects based on rdfs:subPropertyOf. \n",
    "\n",
    "Create rules (or 1 rule?!) to inference class membership based on the RDF Schema language features \n",
    "*\tFor example: infer that an instance belongs to a class because of domain and range restrictions\n",
    "*\tFor example: infer that an instance belongs to a (super)class because it also belongs to a subclass\n",
    "\n",
    "We implemented the rdfs2 rule. You should implement the 5 following remaining rules:  \n",
    "\n",
    "*     (rdfs2) If G contains the triples (aaa rdfs:domain xxx.) and (uuu aaa yyy.)  then infer the triple (uuu rdf:type xxx.)\n",
    "\n",
    "*     (rdfs3) If G contains the triples (aaa rdfs:range xxx.) and (uuu aaa vvv.) then infer the triple (vvv rdf:type xxx .)\n",
    "\n",
    "*     (rdfs5) If G contains the triples (uuu rdfs:subPropertyOf vvv.) and (vvv rdfs:subPropertyOf xxx.) then infer the triple\n",
    "(uuu rdfs:subPropertyOf xxx.) \n",
    "\n",
    "*     (rdfs7) If G contains the triples (aaa rdfs:subPropertyOf bbb.) and (uuu aaa yyy.) then infer the triple (uuu bbb yyy) \n",
    "\n",
    "*     (rdfs9) If G contains the triples (uuu rdfs:subClassOf xxx.) and (vvv rdf:type uuu.) then infer the triple\n",
    " (vvv rdf:type xxx.)   -> this one was not mentioned in the lecture, but is a very important one. \n",
    " \n",
    " \n",
    "*     (rdfs11) If G contains the triples (uuu rdfs:subClassOf vvv.) and (vvv rdfs:subClassOf xxx.) then infer the triple\n",
    "(uuu rdfs:subClassOf xxx.)\n",
    "\n",
    "\n",
    "Run your rule reasoner on your knowledge graph."
   ]
  },
  {
   "cell_type": "code",
   "execution_count": 6,
   "metadata": {},
   "outputs": [
    {
     "name": "stdout",
     "output_type": "stream",
     "text": [
      "(rdfs 7)  http://example.com/kad2020/Netherlands rdf:subPropertyOf http://example.com/kad2020/Belgium\n",
      "(rdfs 9)  http://example.com/kad2020/Amsterdam rdf:type http://example.com/kad2020/City\n",
      "(rdfs 11)  http://example.com/kad2020/Capital rdf:subClassOf http://example.com/kad2020/Location\n",
      "(rdfs 3)  http://example.com/kad2020/Rotterdam rdf:type http://example.com/kad2020/City\n",
      "(rdfs 7)  http://example.com/kad2020/Netherlands rdf:subPropertyOf http://example.com/kad2020/Rotterdam\n",
      "(rdfs 9)  http://example.com/kad2020/Germany rdf:type http://example.com/kad2020/Country\n",
      "(rdfs 11)  http://example.com/kad2020/EuropeanCountry rdf:subClassOf http://example.com/kad2020/Location\n",
      "(rdfs 3)  http://example.com/kad2020/Berlin rdf:type http://example.com/kad2020/Capital\n",
      "(rdfs 9)  http://example.com/kad2020/Netherlands rdf:type http://example.com/kad2020/Location\n",
      "(rdfs 9)  http://example.com/kad2020/Belgium rdf:type http://example.com/kad2020/Location\n",
      "(rdfs 3)  http://example.com/kad2020/Germany rdf:type http://example.com/kad2020/Location\n",
      "(rdfs 5)  http://example.com/kad2020/hasCapital rdf:subPropertyOf http://example.com/kad2020/contains\n",
      "(rdfs 7)  http://example.com/kad2020/Germany rdf:subPropertyOf http://example.com/kad2020/Berlin\n",
      "(rdfs 2)  http://example.com/kad2020/Netherlands rdf:type http://example.com/kad2020/Country\n",
      "(rdfs 2)  http://example.com/kad2020/Amsterdam rdf:type http://example.com/kad2020/Location\n",
      "---------------------------------\n",
      "Number of inferred triples: 15\n",
      "---------------------------------\n"
     ]
    }
   ],
   "source": [
    "#sbj, pre, obj. s,p,o\n",
    "\n",
    "def myRDFSreasoner(myGraph):\n",
    "    inferredTriples = 0\n",
    "    for sbj, prd, obj in myGraph:\n",
    "\n",
    "        # --- rdfs2 ---\n",
    "        if (prd.eq(URIRef(\"http://www.w3.org/2000/01/rdf-schema#domain\"))):\n",
    "            generator = myGraph.subject_objects(URIRef(sbj))\n",
    "            for s, o in generator:\n",
    "                inferredTriples += 1\n",
    "                print(\"(rdfs 2) \", s, \"rdf:type\", obj)\n",
    "        \n",
    "        \n",
    "        # --- rdfs3 ---\n",
    "        if (prd.eq(URIRef(\"http://www.w3.org/2000/01/rdf-schema#range\"))):\n",
    "            generator = myGraph.subject_objects(URIRef(sbj))\n",
    "            for s, o in generator:\n",
    "                inferredTriples += 1\n",
    "                print(\"(rdfs 3) \", o, \"rdf:type\", obj) \n",
    "        \n",
    "        # --- rdfs5 ---\n",
    "        if (prd.eq(URIRef(\"http://www.w3.org/2000/01/rdf-schema#subPropertyOf\"))):\n",
    "            generator = myGraph.subject_objects(URIRef(\"http://www.w3.org/2000/01/rdf-schema#subPropertyOf\"))\n",
    "            for s, o in generator:\n",
    "                if obj==s:\n",
    "                    inferredTriples += 1\n",
    "                    print(\"(rdfs 5) \", sbj, \"rdf:subPropertyOf\", o)\n",
    "        \n",
    "        # --- rdfs7 ---\n",
    "        if (prd.eq(URIRef(\"http://www.w3.org/2000/01/rdf-schema#subPropertyOf\"))):\n",
    "            generator = myGraph.subject_objects(URIRef(sbj))\n",
    "            for s, o in generator:\n",
    "                inferredTriples += 1\n",
    "                print(\"(rdfs 7) \", s, \"rdf:subPropertyOf\", o)\n",
    "        \n",
    "        # --- rdfs9 ---\n",
    "        if (prd.eq(URIRef(\"http://www.w3.org/2000/01/rdf-schema#subClassOf\"))):\n",
    "            generator = myGraph.subject_objects(URIRef(\"http://www.w3.org/1999/02/22-rdf-syntax-ns#type\"))\n",
    "            for s, o in generator:\n",
    "                if sbj==o:\n",
    "                    inferredTriples += 1\n",
    "                    print(\"(rdfs 9) \", s, \"rdf:type\", obj)\n",
    "                \n",
    "        #--- rdfs11 ---\n",
    "        if (prd.eq(URIRef(\"http://www.w3.org/2000/01/rdf-schema#subClassOf\"))):\n",
    "            generator = myGraph.subject_objects(URIRef(\"http://www.w3.org/2000/01/rdf-schema#subClassOf\"))\n",
    "            for s,o in generator:\n",
    "                if obj==s:\n",
    "                    inferredTriples += 1\n",
    "                    print(\"(rdfs 11) \", sbj, \"rdf:subClassOf\", o)\n",
    "\n",
    "        \n",
    "    print(\"---------------------------------\")\n",
    "    print(\"Number of inferred triples:\", inferredTriples)\n",
    "    print(\"---------------------------------\")\n",
    "    \n",
    "myRDFSreasoner(g)\n",
    "\n",
    "\n",
    "# rdf 11: first part get all triples with subclassof, take object from subclassof, search for the triples with subjects which is the same as the object from the previous line, with the predicates subclassof then make new triple \n",
    "\n",
    "\n",
    "\n"
   ]
  },
  {
   "cell_type": "markdown",
   "metadata": {},
   "source": [
    "## Task 3: (2 points) Build your very own RDFS knowledge graph. \n"
   ]
  },
  {
   "cell_type": "markdown",
   "metadata": {},
   "source": [
    "Define a small RDF Schema vocabulary in Turtle. You can choose your own domain (e.g. movies, geography, sports) respecting all the following rules:\n",
    "*\tThe schema should define at least 4 classes, 4 properties, and 4 instances.\n",
    "*   The properties should be used to relate the instances\n",
    "*\tThe instances should be a member of your classes\n",
    "*\tAll resources should have an rdfs:label in a suitable language.\n",
    "\n",
    "You should use (at least) the following language features of RDF and RDFS:\n",
    "* \trdf:type (or 'a')\n",
    "* \trdfs:subClassOf\n",
    "* \trdfs:subPropertyOf\n",
    "* \trdfs:domain and rdfs:range\n",
    "*\trdfs:label\n",
    "\n",
    "Be sure to define the 'rdf:' and 'rdfs:' namespace prefixes for RDF and RDF Schema in your file (perhaps have a look at http://prefix.cc)\n",
    "\n",
    "For creating your vocabulary, you can either use a text editor, or add the axioms directly (programatically) to your Knowledge Graph as you did last week. \n",
    "\n",
    "Play around with the inference rules you have created in the previous task to make sure that you some added some implicit knowledge, that becomes \"visible\" via inferencing (this will be useful for the next task). \n",
    "\n",
    "Finally:\n",
    "- Add the knowledge you created into the RDFLIB graph datastructure *myRDFSgraph*, \n",
    "- Print *myRDFSgraph* in Turtle so that we can check your \"design\"\n",
    "- Save *myRDFSgraph* into a new file 'myRDFSgraph.ttl'"
   ]
  },
  {
   "cell_type": "code",
   "execution_count": 33,
   "metadata": {},
   "outputs": [
    {
     "name": "stdout",
     "output_type": "stream",
     "text": [
      "Now let's check what we can infer from your knowledge graph...\n",
      "The more rules you cover, the better!\n",
      "(rdfs 3)  http://example.org/creative_expression rdf:type http://example.org/Themes\n",
      "---------------------------------\n",
      "Number of inferred triples: 1\n",
      "---------------------------------\n",
      "@prefix ex: <http://example.org/> .\n",
      "@prefix rdf: <http://www.w3.org/1999/02/22-rdf-syntax-ns#> .\n",
      "@prefix rdfs: <http://www.w3.org/2000/01/rdf-schema#> .\n",
      "\n",
      "ex:Art a rdfs:Class ;\n",
      "    rdfs:label \"Kunst\" .\n",
      "\n",
      "ex:ArtWork a rdfs:Class ;\n",
      "    rdf:subPropertyOf rdfs:Art .\n",
      "\n",
      "ex:Painter a rdfs:Class .\n",
      "\n",
      "ex:Sculpture a rdfs:Class .\n",
      "\n",
      "ex:Themes a rdfs:Class .\n",
      "\n",
      "ex:David a ex:Sculpture ;\n",
      "    ex:Located_in \"Italy\" ;\n",
      "    ex:madeOf ex:CarraraMarble .\n",
      "\n",
      "ex:Location rdfs:subPropertyOf ex:Located_in .\n",
      "\n",
      "ex:Michelangelo rdf:subClassOf ex:Art .\n",
      "\n",
      "ex:StarryNight a ex:ArtWork ;\n",
      "    ex:is_a ex:OilPainting ;\n",
      "    ex:painted_by ex:VanGogh .\n",
      "\n",
      "ex:TheNachtWacht a ex:Painting ;\n",
      "    ex:common_theme ex:creative_expression .\n",
      "\n",
      "ex:common_theme rdfs:range ex:Themes .\n",
      "\n",
      "ex:DaVinci a ex:Painter ;\n",
      "    ex:painted ex:MonaLisa ;\n",
      "    rdfs:domain ex:ArtWork .\n",
      "\n",
      "ex:MonaLisa a ex:Artwork,\n",
      "        ex:Painting ;\n",
      "    ex:painted_by ex:DaVinci ;\n",
      "    rdfs:subClassOf ex:Art .\n",
      "\n",
      "\n"
     ]
    }
   ],
   "source": [
    "myRDFSgraph = Graph()\n",
    "\n",
    "ex = Namespace('http://example.org/')\n",
    "myRDFSgraph.bind('ex',ex)\n",
    "rdf = Namespace('http://www.w3.org/1999/02/22-rdf-syntax-ns#')\n",
    "myRDFSgraph.bind('rdf',rdf)\n",
    "rdfs = Namespace('http://www.w3.org/2000/01/rdf-schema#')\n",
    "myRDFSgraph.bind('rdfs',rdfs)\n",
    "\n",
    "\n",
    "myRDFSgraph.add((ex.Art, rdf.type, rdfs.Class))\n",
    "myRDFSgraph.add((ex.ArtWork, rdf.subPropertyOf, rdfs.Art))\n",
    "\n",
    "\n",
    "myRDFSgraph.add((ex.MonaLisa, rdfs.subClassOf, ex.Art))\n",
    "myRDFSgraph.add((ex.DaVinci, rdfs.domain, ex.ArtWork))\n",
    "myRDFSgraph.add((ex.common_theme, rdfs.range, ex.Themes))\n",
    "\n",
    "\n",
    "myRDFSgraph.add((ex.Painter, rdf.type, rdfs.Class))\n",
    "myRDFSgraph.add((ex.Sculpture, rdf.type, rdfs.Class))\n",
    "myRDFSgraph.add((ex.Themes, rdf.type, rdfs.Class))\n",
    "myRDFSgraph.add((ex.ArtWork, rdf.type, rdfs.Class))\n",
    "myRDFSgraph.add((ex.David, ex.madeOf, ex.CarraraMarble))\n",
    "\n",
    "myRDFSgraph.add((ex.MonaLisa, rdf.type, ex.Painting))\n",
    "myRDFSgraph.add((ex.StarryNight, ex.is_a, ex.OilPainting))\n",
    "myRDFSgraph.add((ex.TheNachtWacht, rdf.type, ex.Painting))\n",
    "myRDFSgraph.add((ex.David, rdf.type, ex.Sculpture))\n",
    "\n",
    "myRDFSgraph.add((ex.MonaLisa, ex.painted_by, ex.DaVinci))\n",
    "myRDFSgraph.add((ex.MonaLisa, rdf.type, ex.Artwork))\n",
    "myRDFSgraph.add((ex.DaVinci, ex.painted, ex.MonaLisa))\n",
    "myRDFSgraph.add((ex.TheNachtWacht, ex.common_theme, ex.creative_expression))\n",
    "myRDFSgraph.add((ex.StarryNight, rdf.type, ex.ArtWork))\n",
    "\n",
    "myRDFSgraph.add((ex.StarryNight, ex.painted_by, ex.VanGogh))\n",
    "\n",
    "\n",
    "myRDFSgraph.add((ex.David, ex.Located_in, Literal(\"Italy\")))\n",
    "myRDFSgraph.add((ex.DaVinci, rdf.type, ex.Painter))\n",
    "\n",
    "\n",
    "myRDFSgraph.add((ex.Michelangelo, rdf.subClassOf, ex.Art))\n",
    "myRDFSgraph.add((ex.Location, rdfs.subPropertyOf, ex.Located_in))\n",
    "myRDFSgraph.add((ex.Art, rdfs.label, Literal(\"Kunst\")))\n",
    "\n",
    "\n",
    "print(\"Now let's check what we can infer from your knowledge graph...\")\n",
    "print(\"The more rules you cover, the better!\")\n",
    "myRDFSreasoner(myRDFSgraph)\n",
    "print(myRDFSgraph.serialize(format='ttl'))\n",
    "save_graph(myRDFSgraph, \"Painters_graph.ttl\")"
   ]
  },
  {
   "cell_type": "markdown",
   "metadata": {},
   "source": [
    "## Task 4 (2 points) Compare local inferences with GraphDB results"
   ]
  },
  {
   "cell_type": "markdown",
   "metadata": {},
   "source": [
    "Upload *myRDFSgraph.ttl* to GraphDB (check [the GraphDB tutorial](https://github.com/ucds-vu/knowledge-data-vu/blob/master/Tutorials/Preliminaries/tutorial-GraphDB.md) before starting to work with GraphDB).\n",
    "\n",
    "Formulate two different SPARQL queries, and write a Python code that executes these queries over your GraphDB SPARQL endpoint (check example of Task 1).\n",
    "\n",
    "**Each SPARQL query should return a different type of inferred knowledge** (at least one triple that was not explicitly asserted in the graph).\n",
    "\n",
    "Specify below next to your query, which type of RDFS rule is the GraphDB reasoner using to infer this answer (rdfs2, rdfs3, rdfs5, rdfs7, rdfs9, rdfs11). "
   ]
  },
  {
   "cell_type": "code",
   "execution_count": 8,
   "metadata": {},
   "outputs": [],
   "source": [
    "# Get your GraphDB repository URL and assign it to the variable 'myEndpoint' below. \n",
    "# It should be similar (but not the same) to this: \n",
    "\n",
    "myEndpoint = \"http://145.108.229.246:7200/repositories/assignment-3\"\n",
    "sparql = SPARQLWrapper(myEndpoint)\n",
    "\n"
   ]
  },
  {
   "cell_type": "code",
   "execution_count": 9,
   "metadata": {},
   "outputs": [
    {
     "name": "stderr",
     "output_type": "stream",
     "text": [
      "/Applications/anaconda3/lib/python3.8/site-packages/SPARQLWrapper/Wrapper.py:845: RuntimeWarning: not detected query type for query '  '\n",
      "  warnings.warn(\"not detected query type for query '%s'\" % query.replace(\"\\n\", \" \"), RuntimeWarning)\n",
      "/Applications/anaconda3/lib/python3.8/site-packages/SPARQLWrapper/Wrapper.py:852: RuntimeWarning: unknown query type 'None'\n",
      "  warnings.warn(\"unknown query type '%s'\" % r_queryType, RuntimeWarning)\n"
     ]
    }
   ],
   "source": [
    "# Query 1 - Specify which RDFS rule are you testing: \n",
    "\n",
    "# Check example of Task 1 on how to query remote SPARQL endpoints\n",
    "\n",
    "sparql.setQuery(\"\"\"\n",
    "\n",
    "\"\"\")\n",
    "\n",
    "\n"
   ]
  },
  {
   "cell_type": "code",
   "execution_count": 10,
   "metadata": {},
   "outputs": [],
   "source": [
    "# Query 2 - Specify which RDFS rule are you testing: \n",
    "\n",
    "# Check example of Task 1 on how to query remote SPARQL endpoints\n",
    "\n",
    "sparql.setQuery(\"\"\"\n",
    "\n",
    "\"\"\")\n",
    "\n"
   ]
  }
 ],
 "metadata": {
  "kernelspec": {
   "display_name": "Python 3",
   "language": "python",
   "name": "python3"
  },
  "language_info": {
   "codemirror_mode": {
    "name": "ipython",
    "version": 3
   },
   "file_extension": ".py",
   "mimetype": "text/x-python",
   "name": "python",
   "nbconvert_exporter": "python",
   "pygments_lexer": "ipython3",
   "version": "3.8.8"
  }
 },
 "nbformat": 4,
 "nbformat_minor": 4
}
